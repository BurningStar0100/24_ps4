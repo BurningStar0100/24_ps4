{
  "nbformat": 4,
  "nbformat_minor": 0,
  "metadata": {
    "colab": {
      "provenance": [],
      "gpuType": "T4"
    },
    "kernelspec": {
      "name": "python3",
      "display_name": "Python 3"
    },
    "language_info": {
      "name": "python"
    },
    "accelerator": "GPU"
  },
  "cells": [
    {
      "cell_type": "code",
      "source": [
        "from transformers import T5Tokenizer, T5ForConditionalGeneration # Import necessary classes\n"
      ],
      "metadata": {
        "id": "joRAqahBQSbH"
      },
      "execution_count": 1,
      "outputs": []
    },
    {
      "cell_type": "code",
      "source": [
        "from google.colab import drive\n",
        "drive.mount('/content/drive')"
      ],
      "metadata": {
        "colab": {
          "base_uri": "https://localhost:8080/"
        },
        "id": "T6G76cmscgrZ",
        "outputId": "30568675-ecb0-4c0e-e84c-b82210b18034"
      },
      "execution_count": 5,
      "outputs": [
        {
          "output_type": "stream",
          "name": "stdout",
          "text": [
            "Mounted at /content/drive\n"
          ]
        }
      ]
    },
    {
      "cell_type": "code",
      "execution_count": 8,
      "metadata": {
        "id": "XsMJYdFFO9a4"
      },
      "outputs": [],
      "source": [
        "import os\n",
        "\n",
        "# Load your model from the saved path\n",
        "model_dir = \"/content/drive/MyDrive/Models/flan-t5-wikitablequestions.zip\" # Assuming your model files are within this directory\n",
        "\n",
        "# 1. Import the necessary library to extract the zip file.\n",
        "import zipfile\n",
        "\n",
        "# 2. Define the path to extract the model to.\n",
        "extract_dir = \"/content/drive/MyDrive/Models/flan-t5-wikitablequestions\"\n",
        "\n",
        "# 3. Extract the zip file to the target directory.\n",
        "with zipfile.ZipFile(model_dir, 'r') as zip_ref:\n",
        "    zip_ref.extractall(extract_dir)\n",
        "\n",
        "# 4. Update the tokenizer and model to load from the extracted directory.\n",
        "tokenizer = T5Tokenizer.from_pretrained(\"/content/drive/MyDrive/Models/flan-t5-wikitablequestions/content/flan-t5-wikitablequestions/final_model\")\n",
        "model = T5ForConditionalGeneration.from_pretrained(\"/content/drive/MyDrive/Models/flan-t5-wikitablequestions/content/flan-t5-wikitablequestions/final_model\")"
      ]
    },
    {
      "cell_type": "code",
      "source": [
        "csv_table = \"\"\"Player=Virat Kohli, Matches=250, Runs=12000, Wickets=4,\n",
        "Player=Rohit Sharma, Matches=230, Runs=10000, Wickets=2,\n",
        "Player=Hardik Pandya, Matches=120, Runs=2500, Wickets=63\"\"\"\n",
        "\n",
        "question = \"Which player has taken maximum wickets? Give reason with logic\"\n",
        "\n",
        "input_text = f\"table: {csv_table} question: {question}\"\n"
      ],
      "metadata": {
        "id": "NGXQuT44Pcjg"
      },
      "execution_count": 98,
      "outputs": []
    },
    {
      "cell_type": "code",
      "source": [
        "import torch"
      ],
      "metadata": {
        "id": "M8hjZ0AZeSW5"
      },
      "execution_count": 94,
      "outputs": []
    },
    {
      "cell_type": "code",
      "source": [
        "inputs = tokenizer(input_text, return_tensors=\"pt\", truncation=True)\n",
        "\n",
        "with torch.no_grad():\n",
        "    outputs = model.generate(**inputs, max_new_tokens=50)\n",
        "\n",
        "answer = tokenizer.decode(outputs[0], skip_special_tokens=True)\n",
        "print(\"Answer:\", answer)"
      ],
      "metadata": {
        "colab": {
          "base_uri": "https://localhost:8080/"
        },
        "id": "TAt3GZXmeNlH",
        "outputId": "f42b018d-bc59-49ba-8650-3851993e28c9"
      },
      "execution_count": 99,
      "outputs": [
        {
          "output_type": "stream",
          "name": "stdout",
          "text": [
            "Answer: Hardik Pandya\n"
          ]
        }
      ]
    },
    {
      "cell_type": "code",
      "source": [],
      "metadata": {
        "id": "L1RUCplyeZHQ"
      },
      "execution_count": null,
      "outputs": []
    }
  ]
}